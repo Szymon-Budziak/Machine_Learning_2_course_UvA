{
 "cells": [
  {
   "cell_type": "markdown",
   "id": "edea4bd4",
   "metadata": {},
   "source": [
    "Before you turn this problem in, make sure everything runs as expected. First, **restart the kernel** (in the menubar, select Kernel$\\rightarrow$Restart) and then **run all cells** (in the menubar, select Cell$\\rightarrow$Run All).\n",
    "\n",
    "Make sure you fill in any place that says `YOUR CODE HERE` or \"YOUR ANSWER HERE\", as well as your name and collaborators below:"
   ]
  },
  {
   "cell_type": "code",
   "execution_count": 1,
   "id": "bc23b635",
   "metadata": {
    "ExecuteTime": {
     "end_time": "2024-10-07T14:47:52.927421Z",
     "start_time": "2024-10-07T14:47:52.925543Z"
    }
   },
   "outputs": [],
   "source": [
    "NAME = \"Szymon Budziak\"\n",
    "COLLABORATORS = \"None\""
   ]
  },
  {
   "cell_type": "markdown",
   "id": "0ab4fd8d",
   "metadata": {},
   "source": [
    "---"
   ]
  },
  {
   "cell_type": "markdown",
   "id": "c6a25d2b",
   "metadata": {
    "deletable": false,
    "editable": false,
    "nbgrader": {
     "cell_type": "markdown",
     "checksum": "84192a56681be783e3ea82c9b6186743",
     "grade": false,
     "grade_id": "q1",
     "locked": true,
     "schema_version": 3,
     "solution": false,
     "task": false
    }
   },
   "source": [
    "# Lab 2: Inference in Graphical Models\n",
    "\n",
    "### Machine Learning 2 (2024)\n",
    "\n",
    "* The deadline is Friday, October 4th, 8:59.\n",
    "* Assignment should be submitted through Canvas! Attach the .IPYNB (IPython Notebook) file containing your code and answers. Naming of the file should be \"studentid\\_lab#\", for example, the attached file should be \"12345\\_lab2.ipynb\". \n",
    "\n",
    "Notes on implementation:\n",
    "\n",
    "* You should write your code and answers in an IPython Notebook: http://ipython.org/notebook.html. If you have problems, please ask.\n",
    "* Use __one cell__ for code and markdown answers only!\n",
    "    * Put all code in the cell with the ```# YOUR CODE HERE``` comment and overwrite the ```raise NotImplementedError()``` line.\n",
    "* Large parts of you notebook will be graded automatically. Therefore it is important that your notebook can be run completely without errors and within a reasonable time limit. To test your notebook before submission, select Kernel -> Restart \\& Run All."
   ]
  },
  {
   "cell_type": "code",
   "execution_count": 2,
   "id": "31e9a47a",
   "metadata": {
    "ExecuteTime": {
     "end_time": "2024-10-07T14:47:53.153155Z",
     "start_time": "2024-10-07T14:47:53.150545Z"
    },
    "deletable": false,
    "editable": false,
    "nbgrader": {
     "cell_type": "code",
     "checksum": "a4d12cd632736ec85c451b14a1b1a48d",
     "grade": false,
     "grade_id": "cell-37f323d4a978b41f",
     "locked": true,
     "schema_version": 3,
     "solution": false,
     "task": false
    }
   },
   "outputs": [],
   "source": [
    "import matplotlib\n",
    "import sys\n",
    "import matplotlib.pyplot as plt\n",
    "import numpy as np\n",
    "import math\n",
    "import scipy\n",
    "import IPython\n",
    "from typing import Union\n",
    "from functools import reduce\n",
    "\n",
    "# Check whether the environment is correct\n",
    "assert int(sys.version[0]) == 3 and int(sys.version[2]) == 8\n",
    "assert matplotlib.__version__ == \"3.5.2\"\n",
    "assert np.__version__ == \"1.22.3\"\n",
    "assert scipy.__version__ == \"1.9.0\"\n",
    "assert (\n",
    "    IPython.version_info[0] >= 3\n",
    "), \"Your version of IPython is too old, please update it.\""
   ]
  },
  {
   "cell_type": "code",
   "execution_count": 3,
   "id": "db727dde",
   "metadata": {
    "ExecuteTime": {
     "end_time": "2024-10-07T14:47:53.160674Z",
     "start_time": "2024-10-07T14:47:53.157608Z"
    },
    "deletable": false,
    "editable": false,
    "nbgrader": {
     "cell_type": "code",
     "checksum": "6d26358178465068af60c1992191f440",
     "grade": false,
     "grade_id": "cell-30ce9da093583fcb",
     "locked": true,
     "schema_version": 3,
     "solution": false,
     "task": false
    }
   },
   "outputs": [],
   "source": [
    "# Since we're working with graphs, we'll install networkx\n",
    "import networkx as nx"
   ]
  },
  {
   "cell_type": "markdown",
   "id": "e8ab34fe",
   "metadata": {
    "deletable": false,
    "editable": false,
    "nbgrader": {
     "cell_type": "markdown",
     "checksum": "310b0a8f2fd86f5ca58409bf12f09986",
     "grade": false,
     "grade_id": "cell-fee6eb293e581a8f",
     "locked": true,
     "schema_version": 3,
     "solution": false,
     "task": false
    }
   },
   "source": [
    "## Introduction\n",
    "In this assignment, we will implement the sum-product and max-sum algorithms for factor graphs over discrete variables. The relevant theory is covered in chapter 8 of Bishop's PRML book, in particular section 8.4. Read this chapter carefuly before continuing!\n",
    "\n",
    "We will implement sum-product and max-sum and apply it to a poly-tree structured medical diagnosis example.\n",
    "\n",
    "For this assignment you should use numpy ndarrays (constructed with np.array, np.zeros, np.ones, etc.). We need n-dimensional arrays in order to store conditional distributions with more than one conditioning variable. If you want to perform matrix multiplication on arrays, use the np.dot function; all infix operators including *, +, -, work element-wise on arrays."
   ]
  },
  {
   "cell_type": "markdown",
   "id": "8b51f9b3",
   "metadata": {
    "deletable": false,
    "editable": false,
    "nbgrader": {
     "cell_type": "markdown",
     "checksum": "0132b1f081ef6957bfdd887ef8abfe04",
     "grade": false,
     "grade_id": "cell-ac4482752fadc165",
     "locked": true,
     "schema_version": 3,
     "solution": false,
     "task": false
    }
   },
   "source": [
    "## Nodes \n",
    "In the following cell we will define classes for the variable nodes and factor nodes in the graph. It is important to understand how the messages are structured in the code. \n",
    "\n",
    "Variable nodes receive a message of size ```num_states``` from each of their neighbours. Therefore, the message is a numpy array of size ```num_neighbours x num_states ```. It is initalised as an array of ones. Factor nodes receive a message from each of their neighbours, of size ```num_states```. Since the number of states for each neighbour can differ, we cannot use a rectangular array to store these messages. Therefore, the message is a list of numpy arrays. The length of this list is ```num neighbours```. It is initialised with ```None```. \n",
    "\n",
    "As you can see, every neighbour is implicitly indexed. In order to allow neighbours to communicate, every node has an ```index``` function, which yields the index of the neighbour in the message of the root."
   ]
  },
  {
   "cell_type": "code",
   "execution_count": 4,
   "id": "9802161d",
   "metadata": {},
   "outputs": [],
   "source": [
    "class Variable:\n",
    "    \"\"\" Variable node in a factor graph\"\"\"\n",
    "    def __init__(self, name, num_states):\n",
    "        self.name = name\n",
    "        self.num_states = num_states\n",
    "        self.neighbours = []\n",
    "    \n",
    "    def reset(self):\n",
    "        \"\"\" Initialise for message passing\"\"\"\n",
    "        self.message = np.ones((len(self.neighbours), self.num_states))      \n",
    "        self.received = []\n",
    "        self.observed = None\n",
    "        \n",
    "    def index(self, factor):\n",
    "        \"\"\" Get index of factor in message array\"\"\"\n",
    "        return self.neighbours.index(factor)\n",
    "    \n",
    "    def set_observed(self, i):\n",
    "        \"\"\" Set state i to be observed\"\"\"\n",
    "        eps = 10/len(self.neighbours)\n",
    "        self.message[:] = 10**-eps  # For numerical stability in logs\n",
    "        self.message[:, i] = 1.\n",
    "        self.observed = i\n",
    "            \n",
    "    def send_sp_message(self):\n",
    "        \"\"\" Send message for sum-product\"\"\"\n",
    "        raise NotImplementedError\n",
    "    \n",
    "    def send_ms_message(self):\n",
    "        \"\"\" Send message for max-sum\"\"\"\n",
    "        raise NotImplementedError\n",
    "        \n",
    "    def __str__(self):\n",
    "        return self.name\n",
    "    \n",
    "class Factor:\n",
    "    \"\"\"Factor node in a factor graph\"\"\"\n",
    "    def __init__(self, name, f, neighbours):\n",
    "        self.name = name\n",
    "        self.f = f        \n",
    "        self.neighbours = neighbours\n",
    "        for nb in self.neighbours:\n",
    "            nb.neighbours.append(self)\n",
    "    \n",
    "    def reset(self):\n",
    "        \"\"\" Initialise for message passing\"\"\"\n",
    "        self.message = [None for i in range(len(self.neighbours))]\n",
    "        self.received = []\n",
    "     \n",
    "    def index(self, variable):\n",
    "        \"\"\" Get index of variable in message list\"\"\"\n",
    "        return self.neighbours.index(variable)\n",
    "        \n",
    "    def send_sp_message(self):\n",
    "        \"\"\" Send message for sum-product\"\"\"\n",
    "        raise NotImplementedError\n",
    "    \n",
    "    def send_ms_message(self):\n",
    "        \"\"\" Send message for max-sum\"\"\"\n",
    "        raise NotImplementedError\n",
    "        \n",
    "    def __str__(self):\n",
    "        return self.name"
   ]
  },
  {
   "cell_type": "markdown",
   "id": "f5a701a8",
   "metadata": {
    "deletable": false,
    "editable": false,
    "nbgrader": {
     "cell_type": "markdown",
     "checksum": "364256be5a5172bf654b091458972ec8",
     "grade": false,
     "grade_id": "cell-86e63c4971dc6101",
     "locked": true,
     "schema_version": 3,
     "solution": false,
     "task": false
    }
   },
   "source": [
    "## Graph\n",
    "All the inference will be run by the factor graph itself, which we define below. We have already implemented the inference engine for you, so there is no need to worry about that. You can use the helper methods to debug your code, if need be. Printing the graph will yield the marginals obtained after inference and using the ```show``` method will display the graph for you.\n",
    "\n",
    "Every node in the graph keeps track of who it has received messages from. As soon as it has received messages from all of its neighbours, the node is done passing messages. The factor graphs calls upon every node to send messages until all nodes are satisfied. Then it computes the marginal for every node in the graph. "
   ]
  },
  {
   "cell_type": "code",
   "execution_count": 5,
   "id": "7a6e4e3e",
   "metadata": {
    "ExecuteTime": {
     "end_time": "2024-10-07T14:47:53.254961Z",
     "start_time": "2024-10-07T14:47:53.248988Z"
    },
    "deletable": false,
    "editable": false,
    "nbgrader": {
     "cell_type": "code",
     "checksum": "698feb922515df3c8baca1602943d2c0",
     "grade": false,
     "grade_id": "cell-15ca2575b397c1d9",
     "locked": true,
     "schema_version": 3,
     "solution": false,
     "task": false
    }
   },
   "outputs": [],
   "source": [
    "class FactorGraph:\n",
    "    \"\"\"Factor graph for Sum-Product and Max-Sum\"\"\"\n",
    "    def __init__(self, variables, factors):\n",
    "        self.variables = variables\n",
    "        self.factors = factors\n",
    "        \n",
    "    def reset(self):\n",
    "        \"\"\"Initialise for message passing\"\"\"\n",
    "        for node in self.variables + self.factors:\n",
    "            node.reset()\n",
    "            \n",
    "    def get(self, name):\n",
    "        for v in self.variables + self.factors:\n",
    "            if v.name == name:\n",
    "                return v\n",
    "        raise Exception(\"Node could not be found\")\n",
    "\n",
    "    def sum_product(self):\n",
    "        \"\"\"Run the sum-product algorithm\"\"\"\n",
    "        while not self.converged():\n",
    "            for node in self.variables + self.factors:\n",
    "                node.send_sp_message()\n",
    "                \n",
    "        # Gather all messages\n",
    "        for v in self.variables:\n",
    "            v.message = np.prod(v.message, axis=0)\n",
    "            \n",
    "        # Compute normalisation constant using a single message\n",
    "        Z = self.variables[0].message.sum()\n",
    "        for v in self.variables:\n",
    "            v.message /= Z\n",
    "            \n",
    "    def max_sum(self):\n",
    "        \"\"\"Run the max-product algorithm\"\"\"\n",
    "        while not self.converged():\n",
    "            for node in self.variables + self.factors:\n",
    "                node.send_ms_message()\n",
    "                \n",
    "        # Gather all messages\n",
    "        for v in self.variables:\n",
    "            v.message = np.sum(v.message, axis=0)  \n",
    "            \n",
    "    \n",
    "    def most_likely(self):\n",
    "        \"\"\" Compute most likely state after running max-sum\"\"\"\n",
    "        out = {}\n",
    "        for v in self.variables:\n",
    "            out[str(v)] = np.argmax(v.message)\n",
    "        return out\n",
    "    \n",
    "        \n",
    "    def converged(self):\n",
    "        \"\"\"Check for convergence\"\"\"\n",
    "        for node in self.variables + self.factors:\n",
    "            if len(node.received) != len(node.neighbours):\n",
    "                return False\n",
    "        return True\n",
    "    \n",
    "    def __str__(self):\n",
    "        \"\"\" Display marginals of variable nodes\"\"\"\n",
    "        return \"\\n\".join(['{:<20} {:>30}'.format(str(v), str(v.message)) for v in self.variables])\n",
    "        \n",
    "    def draw(self):\n",
    "        \"\"\"Display graph\"\"\"\n",
    "        G = nx.Graph()\n",
    "        \n",
    "        for node in self.variables:\n",
    "            G.add_node(node)\n",
    "            \n",
    "            for nb in node.neighbours:\n",
    "                G.add_edge(node, nb)\n",
    "        \n",
    "        plt.figure(figsize=(12, 8))\n",
    "        nodePos = nx.layout.spring_layout(G)\n",
    "        nx.draw_networkx_nodes(G,nodePos, self.variables)\n",
    "        nx.draw_networkx_nodes(G,nodePos, self.factors, node_shape=\"s\", node_color=\"g\")\n",
    "        nx.draw_networkx_edges(G,nodePos)\n",
    "        nx.draw_networkx_labels(G, nodePos)"
   ]
  },
  {
   "cell_type": "markdown",
   "id": "4c0b8996",
   "metadata": {
    "deletable": false,
    "editable": false,
    "nbgrader": {
     "cell_type": "markdown",
     "checksum": "a357fcaffb1d54b659bc78e398e4612c",
     "grade": false,
     "grade_id": "cell-8f35e88bfd0a5b6b",
     "locked": true,
     "schema_version": 3,
     "solution": false,
     "task": false
    }
   },
   "source": [
    "## 1.1 Initialize a simple graph (5 points)\n",
    "We start with a set of three Bernoulli distributed variables X, Y, Z. Calculate the marginals $p(Y=1)$ and $p(Y=0)$ using only the sum and product rule where,\n",
    "\n",
    "$$\n",
    "p(X=1) = 0.05 \\\\\\\\\n",
    "p(Z=1) = 0.2 \\\\\\\\\n",
    "$$\n",
    "$$\n",
    "p(Y = 1 | X = 1, Z = 1) = 0.99 \\\\\\\\\n",
    "p(Y = 1 | X = 1, Z = 0) = 0.9 \\\\\\\\\n",
    "p(Y = 1 | X = 0, Z = 1) = 0.7 \\\\\\\\\n",
    "p(Y = 1 | X = 0, Z = 0) = 0.0001 \\\\\\\\\n",
    "$$\n",
    "\n",
    "While implementing the message passing algorithms you should be able to use the results of this question as a guidance. Use the naming conventions implied by the test cell. Note that the order of the neighbours in the factor node and the array of the factor itself must match! Use the order [Y, X, Z] for the conditional factor."
   ]
  },
  {
   "cell_type": "markdown",
   "id": "28c2fdbd7fd6259b",
   "metadata": {},
   "source": [
    "# Answer\n",
    "\n",
    "Given that $p(X=1) = 0.05$ we can obtain $p(X=0)$.\n",
    "\n",
    "$p(X=0) = 1 - p(X=1) = 0.95$.\n",
    "\n",
    "Similarly, $p(Z=0) = 1 - p(Z=1) = 0.8$.\n",
    "\n",
    "Given both marginal probabilities fir $X$ and $Z$, we can now calculate the probability of $Y=1$ and then $Y=0$.\n",
    "\n",
    "$$\n",
    "p(Y=1) = \\sum_X \\sum_Z p(Y=1,X,Z)  = \\sum_X \\sum_Z p(Y=1|X,Z)p(X)p(Z) =\\\\\n",
    "       = p(Y=1|X=1,Z=1)*p(X=1)*p(Z=1) + p(Y=1|X=1,Z=0)*p(X=1)*p(Z=0) +\\\\\n",
    "       + p(Y=1|X=0,Z=1)*p(X=0)*p(Z=1) + p(Y=1|X=0,Z=0)*p(X=0)*p(Z=0) =\\\\\n",
    "       = 0.99 * 0.05 * 0.2 + 0.9 * 0.05 * 0.8 + 0.7 * 0.95 * 0.2 + 0.0001 * 0.95 * 0.8 =\\\\\n",
    "       = 0.178976\n",
    "$$\n",
    "\n",
    "Now we can obtain $p(Y=0)$.\n",
    "\n",
    "$p(Y=0) = 1 - p(Y=1) = 0.821024$.\n",
    "\n",
    "---\n",
    "\n",
    "We can observe, that for $Y cond$ we also have to calculate $p(Y=0|X,Z)$, which is equal to $1 - p(Y=1|X,Z)$.\n",
    "\n",
    "$p(Y=0|X=0, Z=0) = 1 - p(Y=1|X=0, Z=0) = 1 - 0.0001 = 0.9999$\\\n",
    "$p(Y=1|X=0, Z=1) = 1 - p(Y=1|X=0, Z=1) = 1 - 0.7 = 0.3$\\\n",
    "$p(Y=0|X=1, Z=0) = 1 - p(Y=1|X=1, Z=0) = 1 - 0.9 = 0.1$\\\n",
    "$p(Y=0|X=1, Z=1) = 1 - p(Y=1|X=1, Z=1) = 1 - 0.99 = 0.01$"
   ]
  },
  {
   "cell_type": "code",
   "execution_count": 6,
   "id": "12758c33",
   "metadata": {
    "ExecuteTime": {
     "end_time": "2024-10-07T14:47:53.274255Z",
     "start_time": "2024-10-07T14:47:53.270884Z"
    },
    "deletable": false,
    "nbgrader": {
     "cell_type": "code",
     "checksum": "0b33b6ccd021c893916cd5b722056e1a",
     "grade": false,
     "grade_id": "cell-1314d80d7376fd55",
     "locked": false,
     "schema_version": 3,
     "solution": true,
     "task": false
    }
   },
   "outputs": [],
   "source": [
    "def create_simple_graph():\n",
    "    \"\"\"\n",
    "    Creates the simple graph from 1.1\n",
    "    Returns: FactorGraph object\n",
    "    \"\"\"\n",
    "    X = Variable(name=\"X\", num_states=2)\n",
    "    X_prior = Factor(\n",
    "        name=\"p(X)\",\n",
    "        # p(X=0) and p(X=1)\n",
    "        f=np.array([0.95, 0.05]),\n",
    "        neighbours=[X],\n",
    "    )\n",
    "\n",
    "    # YOUR CODE HERE\n",
    "    Z = Variable(name=\"Z\", num_states=2)\n",
    "    z_prior = Factor(\n",
    "        name=\"p(Z)\",\n",
    "        # p(Z=0) and p(Z=1)\n",
    "        f=np.array([0.8, 0.2]),\n",
    "        neighbours=[Z],\n",
    "    )\n",
    "\n",
    "    Y = Variable(name=\"Y\", num_states=2)\n",
    "    Y_cond = Factor(\n",
    "        name=\"p(Y|X,Z)\",\n",
    "        f=np.array(\n",
    "            [\n",
    "                # p(Y=0|X,Z) = 1 - p(Y=1|X,Z)\n",
    "                [\n",
    "                    [0.9999, 0.3],  # p(Y=0|X=0, Z=0), p(Y=0|X=0, Z=1)\n",
    "                    [0.1, 0.01],  # p(Y=0|X=1, Z=0), p(Y=0|X=1, Z=1)\n",
    "                ],\n",
    "                # p(Y=1|X,Z)\n",
    "                [\n",
    "                    [0.0001, 0.7],  # p(Y=1|X=0, Z=0), p(Y=1|X=0, Z=1)\n",
    "                    [0.9, 0.99],  # p(Y=1|X=1, Z=0), p(Y=1|X=1, Z=1)\n",
    "                ],\n",
    "            ]\n",
    "        ),\n",
    "        neighbours=[Y, X, Z],\n",
    "    )\n",
    "\n",
    "    return FactorGraph([X, Y, Z], [X_prior, Y_cond, z_prior])"
   ]
  },
  {
   "cell_type": "code",
   "execution_count": 7,
   "id": "05af6eac",
   "metadata": {
    "ExecuteTime": {
     "end_time": "2024-10-07T14:47:53.396041Z",
     "start_time": "2024-10-07T14:47:53.313077Z"
    },
    "deletable": false,
    "editable": false,
    "nbgrader": {
     "cell_type": "code",
     "checksum": "cbe745e906d16130ef4770a274736783",
     "grade": true,
     "grade_id": "simple_graph",
     "locked": true,
     "points": 5,
     "schema_version": 3,
     "solution": false,
     "task": false
    }
   },
   "outputs": [
    {
     "data": {
      "image/png": "[encoded data removed]",
      "text/plain": [
       "<Figure size 1200x800 with 1 Axes>"
      ]
     },
     "metadata": {},
     "output_type": "display_data"
    }
   ],
   "source": [
    "graph = create_simple_graph()\n",
    "graph.draw()\n",
    "\n",
    "X = graph.get(\"X\")\n",
    "Y = graph.get(\"Y\")\n",
    "Z = graph.get(\"Z\")\n",
    "Y_cond = graph.get(\"p(Y|X,Z)\")\n",
    "X_prior = graph.get(\"p(X)\")\n",
    "Z_prior = graph.get(\"p(Z)\")\n",
    "\n",
    "assert set(graph.variables) == set([X, Y, Z])\n",
    "assert set(graph.factors) == set([Y_cond, X_prior, Z_prior])\n",
    "assert Y_cond.neighbours == [Y, X, Z], \"Please use the right variable order\"\n",
    "assert Y_cond.f.shape == (2, 2, 2), \"Please check the shape of your factor array\""
   ]
  },
  {
   "cell_type": "markdown",
   "id": "e39602c6",
   "metadata": {
    "deletable": false,
    "editable": false,
    "nbgrader": {
     "cell_type": "markdown",
     "checksum": "6c41b65243eaa101f6cafa0cdd34042a",
     "grade": false,
     "grade_id": "cell-9b06eea9b4638088",
     "locked": true,
     "schema_version": 3,
     "solution": false,
     "task": false
    }
   },
   "source": [
    "## 1.2 Helper functions (10 points)\n",
    "Before we can get started with actual message passing, we will need to write some utility functions that we will use later on. First, we need a function that can compute the marginal of a discrete distribution over multiple variables. This happens in eqn (8.66) in Bishop:\n",
    "\n",
    "$$\n",
    "\\sum_{x_1} ... \\sum_{x_M} f_s(x, x_1, ..., x_M) \\prod_{m \\in ne(s) \\setminus x} \\mu_{x_m \\rightarrow f_s} (x_m)\n",
    "$$\n",
    "\n",
    "Complete the function ```marginal```, which takes in a multidimensional array and computes the marginal of a specific dimension. "
   ]
  },
  {
   "cell_type": "code",
   "execution_count": 8,
   "id": "ee451329",
   "metadata": {
    "ExecuteTime": {
     "end_time": "2024-10-07T14:47:53.399780Z",
     "start_time": "2024-10-07T14:47:53.397435Z"
    },
    "deletable": false,
    "nbgrader": {
     "cell_type": "code",
     "checksum": "088bb4c2da5a057c34cb3bc000c349f5",
     "grade": false,
     "grade_id": "marginal",
     "locked": false,
     "schema_version": 3,
     "solution": true,
     "task": false
    }
   },
   "outputs": [],
   "source": [
    "def marginal(x: np.ndarray, dim: int) -> np.ndarray:\n",
    "    \"\"\"\n",
    "    Get the marginal along dim\n",
    "\n",
    "    Args:\n",
    "        x (np.ndarray): Array to compute the marginal of\n",
    "        dim (int): Dimension to compute the marginal along\n",
    "\n",
    "    Returns:\n",
    "        np.ndarray: Marginal of x along dim\n",
    "    \"\"\"\n",
    "    # YOUR CODE HERE\n",
    "    # Sum over all dimensions except the one we want to keep (dim)\n",
    "    return np.sum(x, axis=tuple(i for i in range(x.ndim) if i != dim))"
   ]
  },
  {
   "cell_type": "code",
   "execution_count": 9,
   "id": "da3a4a13",
   "metadata": {
    "ExecuteTime": {
     "end_time": "2024-10-07T14:47:53.402844Z",
     "start_time": "2024-10-07T14:47:53.400653Z"
    },
    "deletable": false,
    "editable": false,
    "nbgrader": {
     "cell_type": "code",
     "checksum": "2f2e558d6a4ce5261e0aadebd2b2a0a3",
     "grade": true,
     "grade_id": "marginal_test",
     "locked": true,
     "points": 5,
     "schema_version": 3,
     "solution": false,
     "task": false
    }
   },
   "outputs": [],
   "source": [
    "x = np.random.random((3, 13, 32, 4))\n",
    "\n",
    "for i, shape in enumerate(x.shape):\n",
    "    assert marginal(x, i).shape == (shape,)"
   ]
  },
  {
   "cell_type": "markdown",
   "id": "6032683c",
   "metadata": {
    "deletable": false,
    "editable": false,
    "nbgrader": {
     "cell_type": "markdown",
     "checksum": "72d87f965c638fcc8231795947a87a86",
     "grade": false,
     "grade_id": "cell-a4b46210eeea5aac",
     "locked": true,
     "schema_version": 3,
     "solution": false,
     "task": false
    }
   },
   "source": [
    "Next, we need a function that computes which neighbours of a node are ready to receive a message. Complete the function ```get_recipients```, which returns a list of recipients. Make sure to check whether a message has already been sent using the neighbours ```received``` list! "
   ]
  },
  {
   "cell_type": "code",
   "execution_count": 10,
   "id": "68002962",
   "metadata": {
    "ExecuteTime": {
     "end_time": "2024-10-07T14:47:53.406573Z",
     "start_time": "2024-10-07T14:47:53.403952Z"
    },
    "deletable": false,
    "nbgrader": {
     "cell_type": "code",
     "checksum": "c36854aafe1142e1fa4dc3213378c5cd",
     "grade": false,
     "grade_id": "recipients",
     "locked": false,
     "schema_version": 3,
     "solution": true,
     "task": false
    }
   },
   "outputs": [],
   "source": [
    "def get_recipients(node: Union[Variable, Factor]) -> list:\n",
    "    \"\"\"\n",
    "    Get the neighbors that can receive a message from the node\n",
    "\n",
    "    Args:\n",
    "        node (Union[Variable, Factor]): Node to get recipients for\n",
    "\n",
    "    Returns:\n",
    "        list: List of nodes that can receive a message\n",
    "    \"\"\"\n",
    "    # YOUR CODE HERE\n",
    "    recipients = []\n",
    "\n",
    "    for neighbor in node.neighbours:\n",
    "        # Get all neighbors except the one we're sending to\n",
    "        required_neighbors = set(node.neighbours).difference({neighbor})\n",
    "        \n",
    "        # Get all messages received by the node\n",
    "        received_messages = set(node.received).difference({neighbor})\n",
    "        \n",
    "        # If all required messages are received and the node hasn't received a message from the neighbor add it to the recipients\n",
    "        if (\n",
    "            required_neighbors.issubset(received_messages)\n",
    "            and node not in neighbor.received\n",
    "        ):\n",
    "            recipients.append(neighbor)\n",
    "\n",
    "    return recipients"
   ]
  },
  {
   "cell_type": "code",
   "execution_count": 11,
   "id": "33779c00",
   "metadata": {},
   "outputs": [],
   "source": [
    "graph.reset()\n",
    "assert get_recipients(X) == []\n",
    "assert get_recipients(Y) == [Y_cond]\n",
    "assert get_recipients(Z) == []\n",
    "assert get_recipients(X_prior) == [X]\n",
    "assert get_recipients(Z_prior) == [Z]\n",
    "assert get_recipients(Y_cond) == []"
   ]
  },
  {
   "cell_type": "markdown",
   "id": "e60f4eca",
   "metadata": {},
   "source": [
    "Below are three more helper functions, which will be used in the computation of messages for the sum-product and max-sum algorithms. Study them carefully. "
   ]
  },
  {
   "cell_type": "code",
   "execution_count": 12,
   "id": "9bde04bf",
   "metadata": {
    "ExecuteTime": {
     "end_time": "2024-10-07T14:47:53.409705Z",
     "start_time": "2024-10-07T14:47:53.407484Z"
    },
    "deletable": false,
    "editable": false,
    "nbgrader": {
     "cell_type": "code",
     "checksum": "0932370d83e422a1bbb38d680ff69bd3",
     "grade": false,
     "grade_id": "cell-56a6e78c2b0ec257",
     "locked": true,
     "schema_version": 3,
     "solution": false,
     "task": false
    }
   },
   "outputs": [],
   "source": [
    "def exclude_list(l, i):\n",
    "    \"\"\"Exclude the ith element from a list\"\"\"\n",
    "    return l[:i] + l[i + 1 :]\n",
    "\n",
    "\n",
    "def exclude_arr(x, i):\n",
    "    \"\"\"Exclude the ith row from an array\"\"\"\n",
    "    dims = list(range(len(x)))\n",
    "    dims.pop(i)\n",
    "    return x[dims]\n",
    "\n",
    "\n",
    "def outer_prod(l):\n",
    "    \"\"\"Computes the outer product of a list of vectors\"\"\"\n",
    "    return reduce(np.multiply.outer, l)\n",
    "\n",
    "\n",
    "def outer_sum(l):\n",
    "    \"\"\"Computes the outer sum of a list of vectors\"\"\"\n",
    "    return reduce(np.add.outer, l)"
   ]
  },
  {
   "cell_type": "markdown",
   "id": "29567df3",
   "metadata": {
    "deletable": false,
    "editable": false,
    "nbgrader": {
     "cell_type": "markdown",
     "checksum": "65dc8be1bee54051e80378c86146f4b5",
     "grade": false,
     "grade_id": "cell-f1296ff9015a5ae1",
     "locked": true,
     "schema_version": 3,
     "solution": false,
     "task": false
    }
   },
   "source": [
    "## 2 The Sum-Product Algorithm (40 points)   \n",
    "\n",
    "### 2.1 Factor Messages (10 points)\n",
    "Now we really can get started on passing messages. First we write a function ```sp_factor_to_variable```. This function does a lot of things, so you may want to write helper functions—that's up to you. The function should implement eqn (8.66), which we restate here:\n",
    "\n",
    "$$\n",
    "\\sum_{x_1} ... \\sum_{x_M} f_s(x, x_1, ..., x_M) \\prod_{m \\in ne(s) \\setminus x} \\mu_{x_m \\rightarrow f_s} (x_m)\n",
    "$$\n",
    "\n",
    "In short, it should obtain the recipients of the factor and for each of them\n",
    "1. Get the relevant indices of the factor and the variable\n",
    "2. Compute the outer product excluding the receiver\n",
    "3. Multiply by the factor\n",
    "4. Compute the marginal\n",
    "5. Send the message to the variable\n",
    "6. Update the variable's received list\n",
    "\n",
    "We have already done some of these steps for you using the previously defined helper functions. Make sure to take into account leaf nodes and nodes set to observed states. "
   ]
  },
  {
   "cell_type": "code",
   "execution_count": 13,
   "id": "53428ecf",
   "metadata": {
    "ExecuteTime": {
     "end_time": "2024-10-07T14:47:53.425050Z",
     "start_time": "2024-10-07T14:47:53.421496Z"
    },
    "deletable": false,
    "nbgrader": {
     "cell_type": "code",
     "checksum": "5a9e3aedd6b173b95f385933413d4cd9",
     "grade": false,
     "grade_id": "sp_f2v",
     "locked": false,
     "schema_version": 3,
     "solution": true,
     "task": false
    }
   },
   "outputs": [],
   "source": [
    "def sp_factor_to_variable(self):\n",
    "    \"\"\"Send sum-product message from factor to node\"\"\"\n",
    "    assert isinstance(self, Factor)\n",
    "\n",
    "    recipients = get_recipients(self)\n",
    "    print(f\"[FACTOR] Sending message from {self.name} to {[str(r) for r in recipients]}\")\n",
    "\n",
    "    for variable in recipients:\n",
    "        # YOUR CODE HERE\n",
    "        assert isinstance(variable, Variable)\n",
    "\n",
    "        # Get the index of the variable and the factor\n",
    "        variable_index = self.index(variable)\n",
    "        factor_index = variable.index(self)\n",
    "\n",
    "        # Get messages from all neighbors except the recipient\n",
    "        incoming_messages = exclude_list(self.message, variable_index)\n",
    "\n",
    "        # Compute the product of all messages except the recipient\n",
    "        if not incoming_messages:\n",
    "            # If there are no incoming messages, the product is 1\n",
    "            product_of_message = np.ones(self.f.shape)\n",
    "        else:\n",
    "            # Compute the outer product of the incoming messages\n",
    "            product_of_message = outer_prod(incoming_messages)\n",
    "            # Expand the dimension of the product for the recipient variable\n",
    "            product_of_message = np.expand_dims(\n",
    "                product_of_message, axis=variable_index\n",
    "            )\n",
    "            # Repeat the product along the recipient variable dimension\n",
    "            product_of_message = np.repeat(\n",
    "                product_of_message, variable.num_states, axis=variable_index\n",
    "            )\n",
    "            # f_shape = (d_1, d_2, ..., d_n)\n",
    "            # pom_shape = (d_1, d_2, ..., d_vi-1, d_vi+1, ..., d_n)\n",
    "\n",
    "        # Multiply the product of messages with the factor\n",
    "        multiplied_message = self.f * product_of_message\n",
    "\n",
    "        # Compute the marginal of the multiplied message\n",
    "        marginal_message = marginal(multiplied_message, variable_index)\n",
    "\n",
    "        # If the variable is observed, set the marginal to 0 except for the observed state\n",
    "        if variable.observed is not None:\n",
    "            tmp = np.zeros(variable.num_states)\n",
    "            tmp[variable.observed] = marginal_message[variable.observed]\n",
    "            marginal_message = tmp\n",
    "\n",
    "        # Send the message to the variable from the factor\n",
    "        variable.message[factor_index] = marginal_message\n",
    "\n",
    "        # Add the factor to the received list of the variable\n",
    "        variable.received.append(self)\n",
    "\n",
    "\n",
    "Factor.send_sp_message = sp_factor_to_variable"
   ]
  },
  {
   "cell_type": "code",
   "execution_count": 14,
   "id": "b26d6aad",
   "metadata": {
    "ExecuteTime": {
     "end_time": "2024-10-07T14:47:53.604865Z",
     "start_time": "2024-10-07T14:47:53.522586Z"
    },
    "deletable": false,
    "editable": false,
    "nbgrader": {
     "cell_type": "code",
     "checksum": "71a2a38e5ba4590f70f52a4fe84d7250",
     "grade": true,
     "grade_id": "sp_f2v_test",
     "locked": true,
     "points": 10,
     "schema_version": 3,
     "solution": false,
     "task": false
    }
   },
   "outputs": [
    {
     "name": "stdout",
     "output_type": "stream",
     "text": [
      "[FACTOR] Sending message from Fx to ['X']\n"
     ]
    },
    {
     "data": {
      "image/png": "[encoded data removed]",
      "text/plain": [
       "<Figure size 1200x800 with 1 Axes>"
      ]
     },
     "metadata": {},
     "output_type": "display_data"
    }
   ],
   "source": [
    "np.random.seed(42)\n",
    "\n",
    "X = Variable(\"X\", 3)\n",
    "Y = Variable(\"Y\", 2)\n",
    "Fx = Factor(\"Fx\", np.random.random(3), [X])\n",
    "Fxy = Factor(\"Fxy\", np.random.random((3, 2)), [X, Y])\n",
    "graph = FactorGraph([X, Y], [Fxy, Fx])\n",
    "graph.reset()\n",
    "graph.draw()\n",
    "Fx.send_sp_message()\n",
    "\n",
    "assert X.message.shape == (2, 3)"
   ]
  },
  {
   "cell_type": "markdown",
   "id": "02ca0392",
   "metadata": {
    "deletable": false,
    "editable": false,
    "nbgrader": {
     "cell_type": "markdown",
     "checksum": "e303ac6eca80fc930b4e08a8d8bf1aaa",
     "grade": false,
     "grade_id": "cell-6d7c9166436f535a",
     "locked": true,
     "schema_version": 3,
     "solution": false,
     "task": false
    }
   },
   "source": [
    "### 2.2 Variable Messages (10 points)\n",
    "\n",
    "Next, of course, is to implement the message from variables to factors according to Bishop eqn (8.69). We restate it here:\n",
    "\n",
    "$$\n",
    "\\mu_{x_m \\rightarrow f_s}(x_m) = \\prod_{l \\in ne(x_m) \\setminus f_s} \\mu_{f_l \\rightarrow x_m}(x_m)\n",
    "$$\n",
    "\n",
    "In order to compute this, the function ```sp_variable_to_factor``` needs to get all recipients of the variable and for each of these factors, compute the product of all factors excluding the recipient."
   ]
  },
  {
   "cell_type": "code",
   "execution_count": 15,
   "id": "f99b9968",
   "metadata": {
    "ExecuteTime": {
     "end_time": "2024-10-07T14:47:53.612144Z",
     "start_time": "2024-10-07T14:47:53.609252Z"
    },
    "deletable": false,
    "nbgrader": {
     "cell_type": "code",
     "checksum": "39113b1c74a012ba33cfa7a56c925489",
     "grade": false,
     "grade_id": "sp_v2f",
     "locked": false,
     "schema_version": 3,
     "solution": true,
     "task": false
    }
   },
   "outputs": [],
   "source": [
    "def sp_variable_to_factor(self):\n",
    "    \"\"\"Send sum-product message from variable to factor\"\"\"\n",
    "    assert isinstance(self, Variable)\n",
    "\n",
    "    recipients = get_recipients(self)\n",
    "    print(f\"[VARIABLE] Sending message from {self.name} to {[str(r) for r in recipients]}\")\n",
    "\n",
    "    for factor in recipients:\n",
    "        # YOUR CODE HERE\n",
    "        assert isinstance(factor, Factor)\n",
    "        \n",
    "        # Get the index of the variable and the factor\n",
    "        factor_index = self.index(factor)\n",
    "        variable_index = factor.index(self)\n",
    "        \n",
    "        # Get all incoming messages except the recipient\n",
    "        incoming_messages = exclude_arr(self.message, factor_index)\n",
    "\n",
    "        # Compute the product of all incoming messages\n",
    "        product_message = np.prod(incoming_messages, axis=0)\n",
    "        \n",
    "        if self.observed is not None:\n",
    "            tmp = np.zeros(self.num_states)\n",
    "            tmp[self.observed] = product_message[self.observed]\n",
    "            product_message = tmp\n",
    "\n",
    "        # Send the message to the factor from the variable\n",
    "        factor.message[variable_index] = product_message\n",
    "\n",
    "        # Add the variable to the received list of the factor\n",
    "        factor.received.append(self)\n",
    "    \n",
    "Variable.send_sp_message = sp_variable_to_factor"
   ]
  },
  {
   "cell_type": "code",
   "execution_count": 16,
   "id": "22735ead",
   "metadata": {
    "ExecuteTime": {
     "end_time": "2024-10-07T14:47:53.694249Z",
     "start_time": "2024-10-07T14:47:53.614388Z"
    },
    "deletable": false,
    "editable": false,
    "nbgrader": {
     "cell_type": "code",
     "checksum": "ad5b1138812f08b3db59f627a65f17d2",
     "grade": true,
     "grade_id": "sp_v2f_test",
     "locked": true,
     "points": 10,
     "schema_version": 3,
     "solution": false,
     "task": false
    }
   },
   "outputs": [
    {
     "name": "stdout",
     "output_type": "stream",
     "text": [
      "[FACTOR] Sending message from Fx to ['X']\n",
      "[VARIABLE] Sending message from X to ['Fxy']\n"
     ]
    }
   ],
   "source": [
    "np.random.seed(42)\n",
    "\n",
    "X = Variable(\"X\", 3)\n",
    "Y = Variable(\"Y\", 2)\n",
    "Fx = Factor(\"Fx\", np.random.random(3), [X])\n",
    "Fxy = Factor(\"Fxy\", np.random.random((3, 2)), [X, Y])\n",
    "graph = FactorGraph([X, Y], [Fxy, Fx])\n",
    "graph.reset()\n",
    "\n",
    "Fx.send_sp_message()\n",
    "X.send_sp_message()\n",
    "\n",
    "assert Fxy.message[0].shape == (3,)"
   ]
  },
  {
   "cell_type": "markdown",
   "id": "7b0e44f1",
   "metadata": {
    "deletable": false,
    "editable": false,
    "nbgrader": {
     "cell_type": "markdown",
     "checksum": "3d27e314bd416ee1ddafcb066577a714",
     "grade": false,
     "grade_id": "cell-92f775735cde5492",
     "locked": true,
     "schema_version": 3,
     "solution": false,
     "task": false
    }
   },
   "source": [
    "### 2.3 Sanity Check \n",
    "\n",
    "Let's run the algorithm on the graph for which you computed p(Y). Does the answer match your computations?"
   ]
  },
  {
   "cell_type": "code",
   "execution_count": 17,
   "id": "6c8e3275",
   "metadata": {},
   "outputs": [
    {
     "name": "stdout",
     "output_type": "stream",
     "text": [
      "[VARIABLE] Sending message from X to []\n",
      "[VARIABLE] Sending message from Y to ['p(Y|X,Z)']\n",
      "[VARIABLE] Sending message from Z to []\n",
      "[FACTOR] Sending message from p(X) to ['X']\n",
      "[FACTOR] Sending message from p(Y|X,Z) to []\n",
      "[FACTOR] Sending message from p(Z) to ['Z']\n",
      "[VARIABLE] Sending message from X to ['p(Y|X,Z)']\n",
      "[VARIABLE] Sending message from Y to []\n",
      "[VARIABLE] Sending message from Z to ['p(Y|X,Z)']\n",
      "[FACTOR] Sending message from p(X) to []\n",
      "[FACTOR] Sending message from p(Y|X,Z) to ['Y', 'X', 'Z']\n",
      "[FACTOR] Sending message from p(Z) to []\n",
      "[VARIABLE] Sending message from X to ['p(X)']\n",
      "[VARIABLE] Sending message from Y to []\n",
      "[VARIABLE] Sending message from Z to ['p(Z)']\n",
      "[FACTOR] Sending message from p(X) to []\n",
      "[FACTOR] Sending message from p(Y|X,Z) to []\n",
      "[FACTOR] Sending message from p(Z) to []\n"
     ]
    },
    {
     "data": {
      "image/png": "[encoded data removed]",
      "text/plain": [
       "<Figure size 1200x800 with 1 Axes>"
      ]
     },
     "metadata": {},
     "output_type": "display_data"
    }
   ],
   "source": [
    "# YOUR CODE HERE\n",
    "graph = create_simple_graph()\n",
    "graph.reset()\n",
    "graph.draw()\n",
    "graph.sum_product()"
   ]
  },
  {
   "cell_type": "code",
   "execution_count": 18,
   "id": "225be2e4ef1f03af",
   "metadata": {
    "ExecuteTime": {
     "end_time": "2024-10-07T14:47:53.805158Z",
     "start_time": "2024-10-07T14:47:53.803250Z"
    }
   },
   "outputs": [
    {
     "name": "stdout",
     "output_type": "stream",
     "text": [
      "X                                       [0.95 0.05]\n",
      "Y                               [0.821024 0.178976]\n",
      "Z                                         [0.8 0.2]\n"
     ]
    }
   ],
   "source": [
    "print(graph)"
   ]
  },
  {
   "cell_type": "code",
   "execution_count": 19,
   "id": "c46f49a1",
   "metadata": {},
   "outputs": [],
   "source": [
    "X = graph.get(\"X\")\n",
    "Y = graph.get(\"Y\")\n",
    "Z = graph.get(\"Z\")\n",
    "assert np.allclose(X.message, [0.95, 0.05])\n",
    "assert np.allclose(Y.message, [0.821024, 0.178976])\n",
    "assert np.allclose(Z.message, [0.8, 0.2])"
   ]
  },
  {
   "cell_type": "markdown",
   "id": "f0028f98",
   "metadata": {
    "deletable": false,
    "editable": false,
    "nbgrader": {
     "cell_type": "markdown",
     "checksum": "4f9f61819aa3501ffb3592404324adbd",
     "grade": false,
     "grade_id": "cell-0846f6f69b4b0947",
     "locked": true,
     "schema_version": 3,
     "solution": false,
     "task": false
    }
   },
   "source": [
    "### 2.4 Medical graph (20 points)\n",
    "\n",
    "We now have all ingredients we need to run the sum-product algorithm. We will use a medical graph to test your algorithm. The graph is defined by the following Bayesian network:\n",
    "\n",
    "$$\n",
    "p(\\verb+Influenza+) = 0.05 \\\\\\\\\n",
    "p(\\verb+Smokes+) = 0.2 \\\\\\\\\n",
    "$$\n",
    "$$\n",
    "p(\\verb+SoreThroat+ = 1 | \\verb+Influenza+ = 1) = 0.3 \\\\\\\\\n",
    "p(\\verb+SoreThroat+ = 1 | \\verb+Influenza+ = 0) = 0.001 \\\\\\\\\n",
    "p(\\verb+Fever+ = 1| \\verb+Influenza+ = 1) = 0.9 \\\\\\\\\n",
    "p(\\verb+Fever+ = 1| \\verb+Influenza+ = 0) = 0.05 \\\\\\\\\n",
    "p(\\verb+Bronchitis+ = 1 | \\verb+Influenza+ = 1, \\verb+Smokes+ = 1) = 0.99 \\\\\\\\\n",
    "p(\\verb+Bronchitis+ = 1 | \\verb+Influenza+ = 1, \\verb+Smokes+ = 0) = 0.9 \\\\\\\\\n",
    "p(\\verb+Bronchitis+ = 1 | \\verb+Influenza+ = 0, \\verb+Smokes+ = 1) = 0.7 \\\\\\\\\n",
    "p(\\verb+Bronchitis+ = 1 | \\verb+Influenza+ = 0, \\verb+Smokes+ = 0) = 0.0001 \\\\\\\\\n",
    "p(\\verb+Coughing+ = 1| \\verb+Bronchitis+ = 1) = 0.8 \\\\\\\\\n",
    "p(\\verb+Coughing+ = 1| \\verb+Bronchitis+ = 0) = 0.07 \\\\\\\\\n",
    "p(\\verb+Wheezing+ = 1| \\verb+Bronchitis+ = 1) = 0.6 \\\\\\\\\n",
    "p(\\verb+Wheezing+ = 1| \\verb+Bronchitis+ = 0) = 0.001 \\\\\\\\\n",
    "$$\n",
    "\n",
    "#### Calculations\n",
    "$$\n",
    "p(\\verb+Influenza+ = 0) = 1 - 0.05 = 0.95 \\\\\\\n",
    "p(\\verb+Smokes+ = 0) = 1 - 0.2 = 0.8 \\\\\\\\\n",
    "$$\n",
    "\n",
    "$$\n",
    "p(\\verb+SoreThroat+ = 0 | \\verb+Influenza+ = 1) = 1 - 0.3 = 0.7 \\\\\\\\\n",
    "p(\\verb+SoreThroat+ = 0 | \\verb+Influenza+ = 0) = 1 - 0.001 = 0.999 \\\\\\\\\n",
    "$$\n",
    "\n",
    "$$\n",
    "p(\\verb+Fever+ = 0| \\verb+Influenza+ = 1) = 1 - 0.9 = 0.1 \\\\\\\\\n",
    "p(\\verb+Fever+ = 0| \\verb+Influenza+ = 0) = 1 - 0.05 = 0.95 \\\\\\\\\n",
    "$$\n",
    "\n",
    "$$\n",
    "p(\\verb+Bronchitis+ = 0 | \\verb+Influenza+ = 1, \\verb+Smokes+ = 1) = 1 - 0.99 = 0.01 \\\\\\\\\n",
    "p(\\verb+Bronchitis+ = 0 | \\verb+Influenza+ = 1, \\verb+Smokes+ = 0) = 1 - 0.9 = 0.1 \\\\\\\\\n",
    "p(\\verb+Bronchitis+ = 0 | \\verb+Influenza+ = 0, \\verb+Smokes+ = 1) = 1 - 0.7 = 0.3 \\\\\\\\\n",
    "p(\\verb+Bronchitis+ = 0 | \\verb+Influenza+ = 0, \\verb+Smokes+ = 0) = 1 - 0.0001 = 0.9999 \\\\\\\\\n",
    "$$\n",
    "\n",
    "$$\n",
    "p(\\verb+Coughing+ = 0| \\verb+Bronchitis+ = 1) = 1 - 0.8 = 0.2 \\\\\\\\\n",
    "p(\\verb+Coughing+ = 0| \\verb+Bronchitis+ = 0) = 1 - 0.07 = 0.93 \\\\\\\\\n",
    "$$\n",
    "\n",
    "$$\n",
    "p(\\verb+Wheezing+ = 0| \\verb+Bronchitis+ = 1) = 1 - 0.6 = 0.4 \\\\\\\\\n",
    "p(\\verb+Wheezing+ = 0| \\verb+Bronchitis+ = 0) = 1 - 0.001 = 0.999 \\\\\\\\\n",
    "$$"
   ]
  },
  {
   "cell_type": "code",
   "execution_count": 20,
   "id": "f4c0f1b4",
   "metadata": {
    "ExecuteTime": {
     "end_time": "2024-10-07T14:47:53.859050Z",
     "start_time": "2024-10-07T14:47:53.855702Z"
    },
    "deletable": false,
    "nbgrader": {
     "cell_type": "code",
     "checksum": "79aa13082a5efd3aea167f86c027624d",
     "grade": false,
     "grade_id": "sp_medical",
     "locked": false,
     "schema_version": 3,
     "solution": true,
     "task": false
    }
   },
   "outputs": [],
   "source": [
    "def create_medical_graph():\n",
    "    \"\"\"\n",
    "    Create medical graph from 2.4\n",
    "    returns: FactorGraph\n",
    "    \"\"\"\n",
    "    I = Variable(name='Influenza', num_states=2)\n",
    "    S = Variable(name='Smokes', num_states=2)\n",
    "    ST = Variable(name='SoreThroat', num_states=2)\n",
    "    F = Variable(name='Fever', num_states=2)\n",
    "    B = Variable(name='Bronchitis', num_states=2)\n",
    "    C = Variable(name='Coughing', num_states=2)\n",
    "    W = Variable(name='Wheezing', num_states=2)\n",
    "\n",
    "    # YOUR CODE HERE\n",
    "    # Prior factor of Influenza\n",
    "    I_prior = Factor(\n",
    "        name=\"p(I)\",\n",
    "        f=np.array([0.95, 0.05]),  # p(I=0) and p(I=1)\n",
    "        neighbours=[I],\n",
    "    )\n",
    "\n",
    "    # Prior factor of Smokes\n",
    "    S_prior = Factor(\n",
    "        name=\"p(S)\",\n",
    "        f=np.array([0.8, 0.2]),  # p(S=0) and p(S=1)\n",
    "        neighbours=[S],\n",
    "    )\n",
    "\n",
    "    # Conditional factor of SoreThroat given Influenza\n",
    "    ST_cond = Factor(\n",
    "        name=\"p(ST|I)\",\n",
    "        f=np.array(\n",
    "            [\n",
    "                # p(ST=0|I) and p(ST=1|I)\n",
    "                [0.999, 0.7],  # p(ST=0|I=0) and p(ST=0|I=1)\n",
    "                [0.001, 0.3],  # p(ST=1|I=0) and p(ST=1|I=1)\n",
    "            ]\n",
    "        ),\n",
    "        neighbours=[ST, I],\n",
    "    )\n",
    "\n",
    "    # Conditional factor of Fever given Influenza\n",
    "    F_cond = Factor(\n",
    "        name=\"p(F|I)\",\n",
    "        f=np.array(\n",
    "            [\n",
    "                # p(F=0|I) and p(F=1|I)\n",
    "                [0.95, 0.1],  # p(F=0|I=0) and p(F=0|I=1)\n",
    "                [0.05, 0.9],  # p(F=1|I=0) and p(F=1|I=1)\n",
    "            ]\n",
    "        ),\n",
    "        neighbours=[F, I],\n",
    "    )\n",
    "\n",
    "    # Conditional factor of Bronchitis given Influenza and Smokes\n",
    "    B_cond = Factor(\n",
    "        name=\"p(B|I,S)\",\n",
    "        f=np.array(\n",
    "            [\n",
    "                # p(B=0|I,S)\n",
    "                [\n",
    "                    [0.9999, 0.3],  # p(B=0|I=0,S=0) and p(B=0|I=0,S=1)\n",
    "                    [0.1, 0.01],\n",
    "                ],  # p(B=0|I=1,S=0) and p(B=0|I=1,S=1)\n",
    "                # p(B=1|I,S)\n",
    "                [\n",
    "                    [0.0001, 0.7],  # p(B=1|I=0,S=0) and p(B=1|I=0,S=1)\n",
    "                    [0.9, 0.99],\n",
    "                ],  # p(B=1|I=1,S=0) and p(B=1|I=1,S=1)\n",
    "            ]\n",
    "        ),\n",
    "        neighbours=[B, I, S],\n",
    "    )\n",
    "\n",
    "    C_cond = Factor(\n",
    "        name=\"p(C|B)\",\n",
    "        f=np.array(\n",
    "            [\n",
    "                # p(C=0|B) and p(C=1|B)\n",
    "                [0.93, 0.2],  # p(C=0|B=0) and p(C=0|B=1)\n",
    "                [0.07, 0.8],  # p(C=1|B=0) and p(C=1|B=1)\n",
    "            ]\n",
    "        ),\n",
    "        neighbours=[C, B],\n",
    "    )\n",
    "\n",
    "    W_cond = Factor(\n",
    "        name=\"p(W|B)\",\n",
    "        f=np.array(\n",
    "            [\n",
    "                # p(W=0|B) and p(W=1|B)\n",
    "                [0.999, 0.4],  # p(W=0|B=0) and p(W=0|B=1)\n",
    "                [0.001, 0.6],  # p(W=1|B=0) and p(W=1|B=1)\n",
    "            ]\n",
    "        ),\n",
    "        neighbours=[W, B],\n",
    "    )\n",
    "\n",
    "    return FactorGraph(\n",
    "        [I, S, ST, F, B, C, W],\n",
    "        [I_prior, S_prior, ST_cond, F_cond, B_cond, C_cond, W_cond],\n",
    "    )"
   ]
  },
  {
   "cell_type": "code",
   "execution_count": 21,
   "id": "ec8c7fa4",
   "metadata": {
    "ExecuteTime": {
     "end_time": "2024-10-07T14:47:53.901286Z",
     "start_time": "2024-10-07T14:47:53.884419Z"
    },
    "deletable": false,
    "editable": false,
    "nbgrader": {
     "cell_type": "code",
     "checksum": "6c6762a92945b31acc34065338ac301f",
     "grade": true,
     "grade_id": "sp_medical_test",
     "locked": true,
     "points": 10,
     "schema_version": 3,
     "solution": false,
     "task": false
    }
   },
   "outputs": [
    {
     "name": "stdout",
     "output_type": "stream",
     "text": [
      "[VARIABLE] Sending message from Influenza to []\n",
      "[VARIABLE] Sending message from Smokes to []\n",
      "[VARIABLE] Sending message from SoreThroat to ['p(ST|I)']\n",
      "[VARIABLE] Sending message from Fever to ['p(F|I)']\n",
      "[VARIABLE] Sending message from Bronchitis to []\n",
      "[VARIABLE] Sending message from Coughing to ['p(C|B)']\n",
      "[VARIABLE] Sending message from Wheezing to ['p(W|B)']\n",
      "[FACTOR] Sending message from p(I) to ['Influenza']\n",
      "[FACTOR] Sending message from p(S) to ['Smokes']\n",
      "[FACTOR] Sending message from p(ST|I) to ['Influenza']\n",
      "[FACTOR] Sending message from p(F|I) to ['Influenza']\n",
      "[FACTOR] Sending message from p(B|I,S) to []\n",
      "[FACTOR] Sending message from p(C|B) to ['Bronchitis']\n",
      "[FACTOR] Sending message from p(W|B) to ['Bronchitis']\n",
      "[VARIABLE] Sending message from Influenza to ['p(B|I,S)']\n",
      "[VARIABLE] Sending message from Smokes to ['p(B|I,S)']\n",
      "[VARIABLE] Sending message from SoreThroat to []\n",
      "[VARIABLE] Sending message from Fever to []\n",
      "[VARIABLE] Sending message from Bronchitis to ['p(B|I,S)']\n",
      "[VARIABLE] Sending message from Coughing to []\n",
      "[VARIABLE] Sending message from Wheezing to []\n",
      "[FACTOR] Sending message from p(I) to []\n",
      "[FACTOR] Sending message from p(S) to []\n",
      "[FACTOR] Sending message from p(ST|I) to []\n",
      "[FACTOR] Sending message from p(F|I) to []\n",
      "[FACTOR] Sending message from p(B|I,S) to ['Bronchitis', 'Influenza', 'Smokes']\n",
      "[FACTOR] Sending message from p(C|B) to []\n",
      "[FACTOR] Sending message from p(W|B) to []\n",
      "[VARIABLE] Sending message from Influenza to ['p(I)', 'p(ST|I)', 'p(F|I)']\n",
      "[VARIABLE] Sending message from Smokes to ['p(S)']\n",
      "[VARIABLE] Sending message from SoreThroat to []\n",
      "[VARIABLE] Sending message from Fever to []\n",
      "[VARIABLE] Sending message from Bronchitis to ['p(C|B)', 'p(W|B)']\n",
      "[VARIABLE] Sending message from Coughing to []\n",
      "[VARIABLE] Sending message from Wheezing to []\n",
      "[FACTOR] Sending message from p(I) to []\n",
      "[FACTOR] Sending message from p(S) to []\n",
      "[FACTOR] Sending message from p(ST|I) to ['SoreThroat']\n",
      "[FACTOR] Sending message from p(F|I) to ['Fever']\n",
      "[FACTOR] Sending message from p(B|I,S) to []\n",
      "[FACTOR] Sending message from p(C|B) to ['Coughing']\n",
      "[FACTOR] Sending message from p(W|B) to ['Wheezing']\n",
      "Influenza                               [0.95 0.05]\n",
      "Smokes                                    [0.8 0.2]\n",
      "SoreThroat                        [0.98405 0.01595]\n",
      "Fever                               [0.9075 0.0925]\n",
      "Bronchitis                      [0.821024 0.178976]\n",
      "Coughing                    [0.79934752 0.20065248]\n",
      "Wheezing                    [0.89179338 0.10820662]\n"
     ]
    },
    {
     "data": {
      "image/png": "[encoded data removed]",
      "text/plain": [
       "<Figure size 1200x800 with 1 Axes>"
      ]
     },
     "metadata": {},
     "output_type": "display_data"
    }
   ],
   "source": [
    "graph = create_medical_graph()\n",
    "graph.reset()\n",
    "graph.draw()\n",
    "graph.sum_product()\n",
    "print(graph)"
   ]
  },
  {
   "cell_type": "markdown",
   "id": "8c3f780b",
   "metadata": {
    "deletable": false,
    "editable": false,
    "nbgrader": {
     "cell_type": "markdown",
     "checksum": "5b226c85dc8ad498d419f8fe8ec763c5",
     "grade": false,
     "grade_id": "cell-4c4f4f56a8a2f1fd",
     "locked": true,
     "schema_version": 3,
     "solution": false,
     "task": false
    }
   },
   "source": [
    "Now we assume we have observed no influenza, so we set I=0 and run the sum-product algorithm again. The marginal for influenza should be deterministic on I=0 of course!"
   ]
  },
  {
   "cell_type": "code",
   "execution_count": 22,
   "id": "dfc14a60",
   "metadata": {
    "ExecuteTime": {
     "end_time": "2024-10-07T14:47:53.989737Z",
     "start_time": "2024-10-07T14:47:53.976544Z"
    },
    "deletable": false,
    "editable": false,
    "nbgrader": {
     "cell_type": "code",
     "checksum": "672d298c2b3722b407ea6ae336c3853d",
     "grade": true,
     "grade_id": "sp_medical_test_observed",
     "locked": true,
     "points": 10,
     "schema_version": 3,
     "solution": false,
     "task": false
    }
   },
   "outputs": [
    {
     "name": "stdout",
     "output_type": "stream",
     "text": [
      "[VARIABLE] Sending message from Influenza to []\n",
      "[VARIABLE] Sending message from Smokes to []\n",
      "[VARIABLE] Sending message from SoreThroat to ['p(ST|I)']\n",
      "[VARIABLE] Sending message from Fever to ['p(F|I)']\n",
      "[VARIABLE] Sending message from Bronchitis to []\n",
      "[VARIABLE] Sending message from Coughing to ['p(C|B)']\n",
      "[VARIABLE] Sending message from Wheezing to ['p(W|B)']\n",
      "[FACTOR] Sending message from p(I) to ['Influenza']\n",
      "[FACTOR] Sending message from p(S) to ['Smokes']\n",
      "[FACTOR] Sending message from p(ST|I) to ['Influenza']\n",
      "[FACTOR] Sending message from p(F|I) to ['Influenza']\n",
      "[FACTOR] Sending message from p(B|I,S) to []\n",
      "[FACTOR] Sending message from p(C|B) to ['Bronchitis']\n",
      "[FACTOR] Sending message from p(W|B) to ['Bronchitis']\n",
      "[VARIABLE] Sending message from Influenza to ['p(B|I,S)']\n",
      "[VARIABLE] Sending message from Smokes to ['p(B|I,S)']\n",
      "[VARIABLE] Sending message from SoreThroat to []\n",
      "[VARIABLE] Sending message from Fever to []\n",
      "[VARIABLE] Sending message from Bronchitis to ['p(B|I,S)']\n",
      "[VARIABLE] Sending message from Coughing to []\n",
      "[VARIABLE] Sending message from Wheezing to []\n",
      "[FACTOR] Sending message from p(I) to []\n",
      "[FACTOR] Sending message from p(S) to []\n",
      "[FACTOR] Sending message from p(ST|I) to []\n",
      "[FACTOR] Sending message from p(F|I) to []\n",
      "[FACTOR] Sending message from p(B|I,S) to ['Bronchitis', 'Influenza', 'Smokes']\n",
      "[FACTOR] Sending message from p(C|B) to []\n",
      "[FACTOR] Sending message from p(W|B) to []\n",
      "[VARIABLE] Sending message from Influenza to ['p(I)', 'p(ST|I)', 'p(F|I)']\n",
      "[VARIABLE] Sending message from Smokes to ['p(S)']\n",
      "[VARIABLE] Sending message from SoreThroat to []\n",
      "[VARIABLE] Sending message from Fever to []\n",
      "[VARIABLE] Sending message from Bronchitis to ['p(C|B)', 'p(W|B)']\n",
      "[VARIABLE] Sending message from Coughing to []\n",
      "[VARIABLE] Sending message from Wheezing to []\n",
      "[FACTOR] Sending message from p(I) to []\n",
      "[FACTOR] Sending message from p(S) to []\n",
      "[FACTOR] Sending message from p(ST|I) to ['SoreThroat']\n",
      "[FACTOR] Sending message from p(F|I) to ['Fever']\n",
      "[FACTOR] Sending message from p(B|I,S) to []\n",
      "[FACTOR] Sending message from p(C|B) to ['Coughing']\n",
      "[FACTOR] Sending message from p(W|B) to ['Wheezing']\n",
      "Influenza                                   [1. 0.]\n",
      "Smokes                                    [0.8 0.2]\n",
      "SoreThroat                            [0.999 0.001]\n",
      "Fever                                   [0.95 0.05]\n",
      "Bronchitis                        [0.85992 0.14008]\n",
      "Coughing                      [0.8277416 0.1722584]\n",
      "Wheezing                    [0.91509208 0.08490792]\n"
     ]
    }
   ],
   "source": [
    "graph.reset()\n",
    "I = graph.get(\"Influenza\")\n",
    "I.set_observed(0)\n",
    "graph.sum_product()\n",
    "print(graph)"
   ]
  },
  {
   "cell_type": "markdown",
   "id": "24140548",
   "metadata": {
    "deletable": false,
    "editable": false,
    "nbgrader": {
     "cell_type": "markdown",
     "checksum": "0c6a39a05ca394b3a71d49a2388e84fa",
     "grade": false,
     "grade_id": "cell-d7f802a986408b38",
     "locked": true,
     "schema_version": 3,
     "solution": false,
     "task": false
    }
   },
   "source": [
    "## The Max-Sum Algorithm (20 pts)\n",
    "Next, we write the message passing functions for the max-sum algorithm. Carefully study the changes made to the sum-product algorithm in Bishop eqns (8.93-8.96). We suggest using the helper function ```outer_sum``` for the factor message and ```np.amax``` to take the maximum over multiple axes. Of course, it is easiest to start from your implementation of the sum-product messages and adapt those where necessary as much of the logic remains the same. \n",
    "\n",
    "Note that we return the unnormalized log-marginal. Don't be scared when the results are not normalised. "
   ]
  },
  {
   "cell_type": "code",
   "execution_count": 23,
   "id": "75a4dc82",
   "metadata": {
    "ExecuteTime": {
     "end_time": "2024-10-07T14:47:54.051123Z",
     "start_time": "2024-10-07T14:47:54.048369Z"
    },
    "deletable": false,
    "nbgrader": {
     "cell_type": "code",
     "checksum": "0cbee702ef585a6ff3379401fe5aadde",
     "grade": false,
     "grade_id": "ms_messages",
     "locked": false,
     "schema_version": 3,
     "solution": true,
     "task": false
    }
   },
   "outputs": [],
   "source": [
    "def ms_factor_to_variable(self):\n",
    "    \"\"\"Send max-sum message from factor to variable\"\"\"\n",
    "    assert isinstance(self, Factor)\n",
    "\n",
    "    recipients = get_recipients(self)\n",
    "    print(f\"[FACTOR] Sending message from {self.name} to {[str(r) for r in recipients]}\")\n",
    "\n",
    "    for variable in recipients:\n",
    "        # YOUR CODE HERE\n",
    "        assert isinstance(variable, Variable)\n",
    "\n",
    "        # Get the index of the variable and the factor\n",
    "        variable_index = self.index(variable)\n",
    "        factor_index = variable.index(self)\n",
    "\n",
    "        # Get all incoming messages except the recipient\n",
    "        incoming_messages = exclude_list(self.message, variable_index)\n",
    "\n",
    "        # Compute the sum of all messages except the recipient\n",
    "        if not incoming_messages:\n",
    "            outer_sum_message = np.zeros(shape=self.f.shape)\n",
    "        else:\n",
    "            # Compute the outer sum of the incoming messages\n",
    "            outer_sum_message = outer_sum(incoming_messages)\n",
    "            # Expand the dimension of the summed messages for the recipient variable\n",
    "            outer_sum_message = np.expand_dims(outer_sum_message, axis=variable_index)\n",
    "            # Repeat the summed messages along the recipient variable dimension\n",
    "            outer_sum_message = np.repeat(\n",
    "                outer_sum_message, variable.num_states, axis=variable_index\n",
    "            )\n",
    "\n",
    "        # Add the summed messages to the logarithm of the factor\n",
    "        summed_message = np.log(self.f) + outer_sum_message\n",
    "\n",
    "        # Compute the maximum of the new summed messages\n",
    "        max_message = np.amax(summed_message, axis=tuple(i for i in range(summed_message.ndim) if i != variable_index))\n",
    "\n",
    "        if variable.observed is not None:\n",
    "            tmp = np.full(variable.num_states, -np.inf)\n",
    "            tmp[variable.observed] = max_message[variable.observed]\n",
    "            max_message = tmp\n",
    "\n",
    "        # Send the message to the variable from the factor\n",
    "        variable.message[factor_index] = max_message\n",
    "\n",
    "        # Add the factor to the received list of the variable\n",
    "        variable.received.append(self)\n",
    "\n",
    "\n",
    "def ms_variable_to_factor(self):\n",
    "    \"\"\"Send max-sum message from variable to factor\"\"\"\n",
    "    assert isinstance(self, Variable)\n",
    "\n",
    "    recipients = get_recipients(self)\n",
    "    print(f\"[VARIABLE] Sending message from {self.name} to {[str(r) for r in recipients]}\")\n",
    "\n",
    "    for factor in recipients:\n",
    "        # YOUR CODE HERE\n",
    "        assert isinstance(factor, Factor)\n",
    "\n",
    "        # Get the index of the variable and the factor\n",
    "        factor_index = self.index(factor)\n",
    "        variable_index = factor.index(self)\n",
    "\n",
    "        # Get all incoming messages except the recipient\n",
    "        incoming_messages = exclude_arr(self.message, factor_index)\n",
    "\n",
    "        # Compute the sum of all incoming messages\n",
    "        summed_message = np.sum(incoming_messages, axis=0)\n",
    "\n",
    "        if self.observed is not None:\n",
    "            tmp = np.full(self.num_states, -np.inf)\n",
    "            tmp[self.observed] = summed_message[self.observed]\n",
    "            summed_message = tmp\n",
    "\n",
    "        # Send the message to the factor from the variable\n",
    "        factor.message[variable_index] = summed_message\n",
    "\n",
    "        # Add the variable to the received list of the factor\n",
    "        factor.received.append(self)\n",
    "\n",
    "Factor.send_ms_message = ms_factor_to_variable\n",
    "Variable.send_ms_message = ms_variable_to_factor"
   ]
  },
  {
   "cell_type": "code",
   "execution_count": 24,
   "id": "f31d5a19",
   "metadata": {},
   "outputs": [
    {
     "name": "stdout",
     "output_type": "stream",
     "text": [
      "[VARIABLE] Sending message from Influenza to []\n",
      "[VARIABLE] Sending message from Smokes to []\n",
      "[VARIABLE] Sending message from SoreThroat to ['p(ST|I)']\n",
      "[VARIABLE] Sending message from Fever to ['p(F|I)']\n",
      "[VARIABLE] Sending message from Bronchitis to []\n",
      "[VARIABLE] Sending message from Coughing to ['p(C|B)']\n",
      "[VARIABLE] Sending message from Wheezing to ['p(W|B)']\n",
      "[FACTOR] Sending message from p(I) to ['Influenza']\n",
      "[FACTOR] Sending message from p(S) to ['Smokes']\n",
      "[FACTOR] Sending message from p(ST|I) to ['Influenza']\n",
      "[FACTOR] Sending message from p(F|I) to ['Influenza']\n",
      "[FACTOR] Sending message from p(B|I,S) to []\n",
      "[FACTOR] Sending message from p(C|B) to ['Bronchitis']\n",
      "[FACTOR] Sending message from p(W|B) to ['Bronchitis']\n",
      "[VARIABLE] Sending message from Influenza to ['p(B|I,S)']\n",
      "[VARIABLE] Sending message from Smokes to ['p(B|I,S)']\n",
      "[VARIABLE] Sending message from SoreThroat to []\n",
      "[VARIABLE] Sending message from Fever to []\n",
      "[VARIABLE] Sending message from Bronchitis to ['p(B|I,S)']\n",
      "[VARIABLE] Sending message from Coughing to []\n",
      "[VARIABLE] Sending message from Wheezing to []\n",
      "[FACTOR] Sending message from p(I) to []\n",
      "[FACTOR] Sending message from p(S) to []\n",
      "[FACTOR] Sending message from p(ST|I) to []\n",
      "[FACTOR] Sending message from p(F|I) to []\n",
      "[FACTOR] Sending message from p(B|I,S) to ['Bronchitis', 'Influenza', 'Smokes']\n",
      "[FACTOR] Sending message from p(C|B) to []\n",
      "[FACTOR] Sending message from p(W|B) to []\n",
      "[VARIABLE] Sending message from Influenza to ['p(I)', 'p(ST|I)', 'p(F|I)']\n",
      "[VARIABLE] Sending message from Smokes to ['p(S)']\n",
      "[VARIABLE] Sending message from SoreThroat to []\n",
      "[VARIABLE] Sending message from Fever to []\n",
      "[VARIABLE] Sending message from Bronchitis to ['p(C|B)', 'p(W|B)']\n",
      "[VARIABLE] Sending message from Coughing to []\n",
      "[VARIABLE] Sending message from Wheezing to []\n",
      "[FACTOR] Sending message from p(I) to []\n",
      "[FACTOR] Sending message from p(S) to []\n",
      "[FACTOR] Sending message from p(ST|I) to ['SoreThroat']\n",
      "[FACTOR] Sending message from p(F|I) to ['Fever']\n",
      "[FACTOR] Sending message from p(B|I,S) to []\n",
      "[FACTOR] Sending message from p(C|B) to ['Coughing']\n",
      "[FACTOR] Sending message from p(W|B) to ['Wheezing']\n",
      "Influenza                 [-0.40040184 -4.52024098]\n",
      "Smokes                    [-0.40040184 -2.80366912]\n",
      "SoreThroat                [-0.40040184 -5.36753884]\n",
      "Fever                     [-0.40040184 -3.34484082]\n",
      "Bronchitis                [-0.40040184 -2.80366912]\n",
      "Coughing                  [-0.40040184 -2.80366912]\n",
      "Wheezing                  [-0.40040184 -2.80366912]\n"
     ]
    },
    {
     "data": {
      "image/png": "[encoded data removed]",
      "text/plain": [
       "<Figure size 1200x800 with 1 Axes>"
      ]
     },
     "metadata": {},
     "output_type": "display_data"
    }
   ],
   "source": [
    "graph = create_medical_graph()\n",
    "graph.reset()\n",
    "graph.draw()\n",
    "graph.max_sum()\n",
    "print(graph)"
   ]
  },
  {
   "cell_type": "code",
   "execution_count": 25,
   "id": "6fad9ab3",
   "metadata": {
    "ExecuteTime": {
     "end_time": "2024-10-07T14:47:54.152968Z",
     "start_time": "2024-10-07T14:47:54.139798Z"
    },
    "deletable": false,
    "editable": false,
    "nbgrader": {
     "cell_type": "code",
     "checksum": "e70946da7abef432aa549a71fd92c719",
     "grade": true,
     "grade_id": "ms_medical_test_observed",
     "locked": true,
     "points": 10,
     "schema_version": 3,
     "solution": false,
     "task": false
    }
   },
   "outputs": [
    {
     "name": "stdout",
     "output_type": "stream",
     "text": [
      "[VARIABLE] Sending message from Influenza to []\n",
      "[VARIABLE] Sending message from Smokes to []\n",
      "[VARIABLE] Sending message from SoreThroat to ['p(ST|I)']\n",
      "[VARIABLE] Sending message from Fever to ['p(F|I)']\n",
      "[VARIABLE] Sending message from Bronchitis to []\n",
      "[VARIABLE] Sending message from Coughing to ['p(C|B)']\n",
      "[VARIABLE] Sending message from Wheezing to ['p(W|B)']\n",
      "[FACTOR] Sending message from p(I) to ['Influenza']\n",
      "[FACTOR] Sending message from p(S) to ['Smokes']\n",
      "[FACTOR] Sending message from p(ST|I) to ['Influenza']\n",
      "[FACTOR] Sending message from p(F|I) to ['Influenza']\n",
      "[FACTOR] Sending message from p(B|I,S) to []\n",
      "[FACTOR] Sending message from p(C|B) to ['Bronchitis']\n",
      "[FACTOR] Sending message from p(W|B) to ['Bronchitis']\n",
      "[VARIABLE] Sending message from Influenza to ['p(B|I,S)']\n",
      "[VARIABLE] Sending message from Smokes to ['p(B|I,S)']\n",
      "[VARIABLE] Sending message from SoreThroat to []\n",
      "[VARIABLE] Sending message from Fever to []\n",
      "[VARIABLE] Sending message from Bronchitis to ['p(B|I,S)']\n",
      "[VARIABLE] Sending message from Coughing to []\n",
      "[VARIABLE] Sending message from Wheezing to []\n",
      "[FACTOR] Sending message from p(I) to []\n",
      "[FACTOR] Sending message from p(S) to []\n",
      "[FACTOR] Sending message from p(ST|I) to []\n",
      "[FACTOR] Sending message from p(F|I) to []\n",
      "[FACTOR] Sending message from p(B|I,S) to ['Bronchitis', 'Influenza', 'Smokes']\n",
      "[FACTOR] Sending message from p(C|B) to []\n",
      "[FACTOR] Sending message from p(W|B) to []\n",
      "[VARIABLE] Sending message from Influenza to ['p(I)', 'p(ST|I)', 'p(F|I)']\n",
      "[VARIABLE] Sending message from Smokes to ['p(S)']\n",
      "[VARIABLE] Sending message from SoreThroat to []\n",
      "[VARIABLE] Sending message from Fever to []\n",
      "[VARIABLE] Sending message from Bronchitis to ['p(C|B)', 'p(W|B)']\n",
      "[VARIABLE] Sending message from Coughing to []\n",
      "[VARIABLE] Sending message from Wheezing to []\n",
      "[FACTOR] Sending message from p(I) to []\n",
      "[FACTOR] Sending message from p(S) to []\n",
      "[FACTOR] Sending message from p(ST|I) to ['SoreThroat']\n",
      "[FACTOR] Sending message from p(F|I) to ['Fever']\n",
      "[FACTOR] Sending message from p(B|I,S) to []\n",
      "[FACTOR] Sending message from p(C|B) to ['Coughing']\n",
      "[FACTOR] Sending message from p(W|B) to ['Wheezing']\n",
      "Influenza                 [-0.40040184        -inf]\n",
      "Smokes                    [-0.40040184 -2.80366912]\n",
      "SoreThroat                [-0.40040184 -7.30715662]\n",
      "Fever                     [-0.40040184 -3.34484082]\n",
      "Bronchitis                [-0.40040184 -2.80366912]\n",
      "Coughing                  [-0.40040184 -2.80366912]\n",
      "Wheezing                  [-0.40040184 -2.80366912]\n"
     ]
    }
   ],
   "source": [
    "graph.reset()\n",
    "I = graph.get(\"Influenza\")\n",
    "I.set_observed(0)\n",
    "graph.max_sum()\n",
    "print(graph)"
   ]
  },
  {
   "cell_type": "markdown",
   "id": "d3b9db1e",
   "metadata": {
    "deletable": false,
    "editable": false,
    "nbgrader": {
     "cell_type": "markdown",
     "checksum": "5e2f36bf72c476a6bf8df707ca4e3055",
     "grade": false,
     "grade_id": "diagnosis",
     "locked": true,
     "schema_version": 3,
     "solution": false,
     "task": false
    }
   },
   "source": [
    "## Diagnosis (5 points)\n",
    "\n",
    "Now that we have the max-sum algorithm implemented, we can do some cool things! A friend who smokes calls you and tells you they woke up with a fever, but they don't seem to be coughing nor wheezing and their throat feels fine. Is it likely that they have bronchitis?"
   ]
  },
  {
   "cell_type": "code",
   "execution_count": 26,
   "id": "1bf6e788",
   "metadata": {
    "ExecuteTime": {
     "end_time": "2024-10-07T14:47:54.170207Z",
     "start_time": "2024-10-07T14:47:54.157775Z"
    },
    "deletable": false,
    "nbgrader": {
     "cell_type": "code",
     "checksum": "6b38f03491fc2bc29bd97a9b919e72a0",
     "grade": false,
     "grade_id": "diagnosis_answer",
     "locked": false,
     "schema_version": 3,
     "solution": true,
     "task": false
    }
   },
   "outputs": [
    {
     "name": "stdout",
     "output_type": "stream",
     "text": [
      "[VARIABLE] Sending message from Influenza to []\n",
      "[VARIABLE] Sending message from Smokes to []\n",
      "[VARIABLE] Sending message from SoreThroat to ['p(ST|I)']\n",
      "[VARIABLE] Sending message from Fever to ['p(F|I)']\n",
      "[VARIABLE] Sending message from Bronchitis to []\n",
      "[VARIABLE] Sending message from Coughing to ['p(C|B)']\n",
      "[VARIABLE] Sending message from Wheezing to ['p(W|B)']\n",
      "[FACTOR] Sending message from p(I) to ['Influenza']\n",
      "[FACTOR] Sending message from p(S) to ['Smokes']\n",
      "[FACTOR] Sending message from p(ST|I) to ['Influenza']\n",
      "[FACTOR] Sending message from p(F|I) to ['Influenza']\n",
      "[FACTOR] Sending message from p(B|I,S) to []\n",
      "[FACTOR] Sending message from p(C|B) to ['Bronchitis']\n",
      "[FACTOR] Sending message from p(W|B) to ['Bronchitis']\n",
      "[VARIABLE] Sending message from Influenza to ['p(B|I,S)']\n",
      "[VARIABLE] Sending message from Smokes to ['p(B|I,S)']\n",
      "[VARIABLE] Sending message from SoreThroat to []\n",
      "[VARIABLE] Sending message from Fever to []\n",
      "[VARIABLE] Sending message from Bronchitis to ['p(B|I,S)']\n",
      "[VARIABLE] Sending message from Coughing to []\n",
      "[VARIABLE] Sending message from Wheezing to []\n",
      "[FACTOR] Sending message from p(I) to []\n",
      "[FACTOR] Sending message from p(S) to []\n",
      "[FACTOR] Sending message from p(ST|I) to []\n",
      "[FACTOR] Sending message from p(F|I) to []\n",
      "[FACTOR] Sending message from p(B|I,S) to ['Bronchitis', 'Influenza', 'Smokes']\n",
      "[FACTOR] Sending message from p(C|B) to []\n",
      "[FACTOR] Sending message from p(W|B) to []\n",
      "[VARIABLE] Sending message from Influenza to ['p(I)', 'p(ST|I)', 'p(F|I)']\n",
      "[VARIABLE] Sending message from Smokes to ['p(S)']\n",
      "[VARIABLE] Sending message from SoreThroat to []\n",
      "[VARIABLE] Sending message from Fever to []\n",
      "[VARIABLE] Sending message from Bronchitis to ['p(C|B)', 'p(W|B)']\n",
      "[VARIABLE] Sending message from Coughing to []\n",
      "[VARIABLE] Sending message from Wheezing to []\n",
      "[FACTOR] Sending message from p(I) to []\n",
      "[FACTOR] Sending message from p(S) to []\n",
      "[FACTOR] Sending message from p(ST|I) to ['SoreThroat']\n",
      "[FACTOR] Sending message from p(F|I) to ['Fever']\n",
      "[FACTOR] Sending message from p(B|I,S) to []\n",
      "[FACTOR] Sending message from p(C|B) to ['Coughing']\n",
      "[FACTOR] Sending message from p(W|B) to ['Wheezing']\n",
      "{'Influenza': 0, 'Smokes': 1, 'SoreThroat': 0, 'Fever': 1, 'Bronchitis': 0, 'Coughing': 0, 'Wheezing': 0}\n"
     ]
    }
   ],
   "source": [
    "graph = create_medical_graph()\n",
    "graph.reset()\n",
    "# their throat feels fine. Is it likely that they have bronchitis?\n",
    "# friend who smokes\n",
    "S = graph.get(\"Smokes\")\n",
    "S.set_observed(1)\n",
    "\n",
    "# woke up with a fever\n",
    "F = graph.get(\"Fever\")\n",
    "F.set_observed(1)\n",
    "\n",
    "# they don't seem to be coughing nor wheezing\n",
    "C = graph.get(\"Coughing\")\n",
    "C.set_observed(0)\n",
    "W = graph.get(\"Wheezing\")\n",
    "W.set_observed(0)\n",
    "\n",
    "# their throat feels fine\n",
    "ST = graph.get(\"SoreThroat\")\n",
    "ST.set_observed(0)\n",
    "\n",
    "# Is it likely that they have bronchitis?\n",
    "graph.max_sum()\n",
    "\n",
    "print(graph.most_likely())"
   ]
  },
  {
   "cell_type": "code",
   "execution_count": 27,
   "id": "46630855",
   "metadata": {},
   "outputs": [
    {
     "name": "stdout",
     "output_type": "stream",
     "text": [
      "Influenza                 [-5.93500798 -7.60298463]\n",
      "Smokes                    [       -inf -5.93500798]\n",
      "SoreThroat                [-5.93500798        -inf]\n",
      "Fever                     [       -inf -5.93500798]\n",
      "Bronchitis                [-5.93500798 -7.53986757]\n",
      "Coughing                  [-5.93500798        -inf]\n",
      "Wheezing                  [-5.93500798        -inf]\n"
     ]
    }
   ],
   "source": [
    "print(graph)"
   ]
  }
 ],
 "metadata": {
  "kernelspec": {
   "display_name": ".venv",
   "language": "python",
   "name": "python3"
  },
  "language_info": {
   "codemirror_mode": {
    "name": "ipython",
    "version": 3
   },
   "file_extension": ".py",
   "mimetype": "text/x-python",
   "name": "python",
   "nbconvert_exporter": "python",
   "pygments_lexer": "ipython3",
   "version": "3.8.10"
  }
 },
 "nbformat": 4,
 "nbformat_minor": 5
}
